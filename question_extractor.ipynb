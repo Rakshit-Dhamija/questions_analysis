{
 "cells": [
  {
   "cell_type": "code",
   "id": "initial_id",
   "metadata": {
    "collapsed": true,
    "jupyter": {
     "is_executing": true
    },
    "ExecuteTime": {
     "start_time": "2024-11-12T07:58:58.010384Z"
    }
   },
   "source": [
    "import csv\n",
    "import re\n",
    "from paddleocr import PaddleOCR\n",
    "import fitz  # PyMuPDF\n",
    "import numpy as np\n",
    "from PIL import Image\n",
    "from tensorflow.python.framework.test_util import use_gpu\n",
    "\n",
    "# Initialize PaddleOCR\n",
    "ocr = PaddleOCR(use_angle_cls=True, lang=\"en\",use_gpu=True)\n",
    "\n",
    "# Define the path and page range\n",
    "pdf_path = r\"Primer.pdf\"\n",
    "PAGE_NUM = 846  # Adjust for actual page range\n",
    "\n",
    "# Define file paths for CSV and text output\n",
    "csv_path = r\"extracted_exercises.csv\"\n",
    "text_path = r\"extracted_content.txt\"\n",
    "\n",
    "# Create a CSV file to store the exercises dataset\n",
    "with open(csv_path, mode='w', newline='', encoding='utf-8') as csv_file, \\\n",
    "     open(text_path, mode='a', encoding='utf-8') as text_file:  # Open text file in append mode\n",
    "\n",
    "    writer = csv.writer(csv_file)\n",
    "    writer.writerow([\"Exercise Number\", \"Question Text\"])\n",
    "\n",
    "    # Regular expression to detect exercise questions (e.g., \"Exercise 2.1\")\n",
    "    exercise_pattern = re.compile(r\"^(Exercise\\s+\\d+\\.\\d+):?\\s*(.*)\")\n",
    "\n",
    "    # Process each page for OCR\n",
    "    with fitz.open(pdf_path) as pdf:\n",
    "        for pg_num in range(30, PAGE_NUM):\n",
    "            page = pdf[pg_num]\n",
    "            \n",
    "            # Increase DPI for rendering to improve OCR accuracy (e.g., 300 DPI)\n",
    "            mat = fitz.Matrix(2.0, 2.0)  # 3x scaling for higher resolution\n",
    "            pm = page.get_pixmap(matrix=mat, alpha=False)\n",
    "            \n",
    "            # Save the image to inspect if OCR fails\n",
    "            img_path = rf\"C:\\Users\\aggar\\PYQAnalyser\\page_{pg_num + 1}.png\"\n",
    "            # pm.save(img_path)  # Save as PNG for inspection\n",
    "            \n",
    "            # Convert the pixmap to a numpy array\n",
    "            img = np.array(Image.frombytes(\"RGB\", [pm.width, pm.height], pm.samples))\n",
    "            \n",
    "            # OCR on the image\n",
    "            result = ocr.ocr(img, cls=True)\n",
    "            print(f\"[DEBUG] OCR result for page {pg_num + 1}:\", result)  # Debug line\n",
    "            if not result:\n",
    "                print(f\"[DEBUG] No text found on page {pg_num + 1}\")\n",
    "                continue\n",
    "\n",
    "            # Append page header to the text file\n",
    "            text_file.write(f\"Page {pg_num + 1}:\\n\")\n",
    "\n",
    "            # Process OCR output\n",
    "            for line in result:\n",
    "                for entry in line:\n",
    "                    text = entry[1][0].strip()  # Extract recognized text and strip whitespace\n",
    "                    text_file.write(text + \"\\n\")  # Append entire OCR text to the text file\n",
    "                    print(f\"[DEBUG] Text added to txt file: {text}\")  # Debug line\n",
    "\n",
    "                    # Check if text matches the exercise pattern\n",
    "                    match = exercise_pattern.match(text)\n",
    "                    if match:\n",
    "                        exercise_num = match.group(1)  # Extract \"Exercise 2.1\"\n",
    "                        question_text = match.group(2)  # Extract the question text\n",
    "                        writer.writerow([exercise_num, question_text])  # Write to CSV\n",
    "                        print(f\"[DEBUG] Writing exercise to CSV: {exercise_num} - {question_text}\")  # Debug line\n",
    "            \n",
    "            text_file.write(\"\\n\")  # Add newline between pages in the text file\n",
    "\n",
    "print(\"Exercises dataset created successfully at:\", csv_path)\n",
    "print(\"Full text content saved successfully at:\", text_path)"
   ],
   "outputs": [
    {
     "name": "stdout",
     "output_type": "stream",
     "text": [
      "[2024/11/12 13:29:02] ppocr DEBUG: Namespace(help='==SUPPRESS==', use_gpu=True, use_xpu=False, use_npu=False, use_mlu=False, ir_optim=True, use_tensorrt=False, min_subgraph_size=15, precision='fp32', gpu_mem=500, gpu_id=0, image_dir=None, page_num=0, det_algorithm='DB', det_model_dir='C:\\\\Users\\\\rathe/.paddleocr/whl\\\\det\\\\en\\\\en_PP-OCRv3_det_infer', det_limit_side_len=960, det_limit_type='max', det_box_type='quad', det_db_thresh=0.3, det_db_box_thresh=0.6, det_db_unclip_ratio=1.5, max_batch_size=10, use_dilation=False, det_db_score_mode='fast', det_east_score_thresh=0.8, det_east_cover_thresh=0.1, det_east_nms_thresh=0.2, det_sast_score_thresh=0.5, det_sast_nms_thresh=0.2, det_pse_thresh=0, det_pse_box_thresh=0.85, det_pse_min_area=16, det_pse_scale=1, scales=[8, 16, 32], alpha=1.0, beta=1.0, fourier_degree=5, rec_algorithm='SVTR_LCNet', rec_model_dir='C:\\\\Users\\\\rathe/.paddleocr/whl\\\\rec\\\\en\\\\en_PP-OCRv4_rec_infer', rec_image_inverse=True, rec_image_shape='3, 48, 320', rec_batch_num=6, max_text_length=25, rec_char_dict_path='C:\\\\Users\\\\rathe\\\\.conda\\\\envs\\\\newconda\\\\lib\\\\site-packages\\\\paddleocr\\\\ppocr\\\\utils\\\\en_dict.txt', use_space_char=True, vis_font_path='./doc/fonts/simfang.ttf', drop_score=0.5, e2e_algorithm='PGNet', e2e_model_dir=None, e2e_limit_side_len=768, e2e_limit_type='max', e2e_pgnet_score_thresh=0.5, e2e_char_dict_path='./ppocr/utils/ic15_dict.txt', e2e_pgnet_valid_set='totaltext', e2e_pgnet_mode='fast', use_angle_cls=True, cls_model_dir='C:\\\\Users\\\\rathe/.paddleocr/whl\\\\cls\\\\ch_ppocr_mobile_v2.0_cls_infer', cls_image_shape='3, 48, 192', label_list=['0', '180'], cls_batch_num=6, cls_thresh=0.9, enable_mkldnn=False, cpu_threads=10, use_pdserving=False, warmup=False, sr_model_dir=None, sr_image_shape='3, 32, 128', sr_batch_num=1, draw_img_save_dir='./inference_results', save_crop_res=False, crop_res_save_dir='./output', use_mp=False, total_process_num=1, process_id=0, benchmark=False, save_log_path='./log_output/', show_log=True, use_onnx=False, return_word_box=False, output='./output', table_max_len=488, table_algorithm='TableAttn', table_model_dir=None, merge_no_span_structure=True, table_char_dict_path=None, formula_algorithm='LaTeXOCR', formula_model_dir=None, formula_char_dict_path=None, formula_batch_num=1, layout_model_dir=None, layout_dict_path=None, layout_score_threshold=0.5, layout_nms_threshold=0.5, kie_algorithm='LayoutXLM', ser_model_dir=None, re_model_dir=None, use_visual_backbone=True, ser_dict_path='../train_data/XFUND/class_list_xfun.txt', ocr_order_method=None, mode='structure', image_orientation=False, layout=True, table=True, formula=False, ocr=True, recovery=False, recovery_to_markdown=False, use_pdf2docx_api=False, invert=False, binarize=False, alphacolor=(255, 255, 255), lang='en', det=True, rec=True, type='ocr', savefile=False, ocr_version='PP-OCRv4', structure_version='PP-StructureV2')\n",
      "[2024/11/12 13:29:02] ppocr WARNING: The first GPU is used for inference by default, GPU ID: 0\n",
      "[2024/11/12 13:29:05] ppocr WARNING: The first GPU is used for inference by default, GPU ID: 0\n",
      "[2024/11/12 13:29:08] ppocr WARNING: The first GPU is used for inference by default, GPU ID: 0\n"
     ]
    }
   ],
   "execution_count": null
  },
  {
   "metadata": {
    "ExecuteTime": {
     "end_time": "2024-11-12T08:12:58.084502Z",
     "start_time": "2024-11-12T08:12:58.080499Z"
    }
   },
   "cell_type": "code",
   "source": [
    "import paddle\n",
    "gpu_available  = paddle.device.is_compiled_with_cuda()\n",
    "name = paddle.device.get_device()\n",
    "print(\"GPU available:\", gpu_available)\n",
    "print(name)"
   ],
   "id": "70c25343e3ce2365",
   "outputs": [
    {
     "name": "stdout",
     "output_type": "stream",
     "text": [
      "GPU available: True\n",
      "gpu:0\n"
     ]
    }
   ],
   "execution_count": 2
  },
  {
   "metadata": {
    "jupyter": {
     "is_executing": true
    },
    "ExecuteTime": {
     "start_time": "2024-11-12T08:18:10.445698Z"
    }
   },
   "cell_type": "code",
   "source": [
    "import csv\n",
    "import re\n",
    "from paddleocr import PaddleOCR\n",
    "import fitz  # PyMuPDF\n",
    "import numpy as np\n",
    "from PIL import Image\n",
    "from tensorflow.python.framework.test_util import use_gpu\n",
    "\n",
    "# Initialize PaddleOCR\n",
    "ocr = PaddleOCR(use_angle_cls=True, lang=\"en\",use_gpu=True)\n",
    "\n",
    "# Define the path and page range\n",
    "pdf_path = r\"Primer.pdf\"\n",
    "PAGE_NUM = 846  # Adjust for actual page range\n",
    "\n",
    "# Define file paths for CSV and text output\n",
    "csv_path = r\"extracted_exercises.csv\"\n",
    "text_path = r\"extracted_content.txt\"\n",
    "\n",
    "# Open CSV and text files\n",
    "with open(csv_path, mode='w', newline='', encoding='utf-8') as csv_file, \\\n",
    "     open(text_path, mode='a', encoding='utf-8') as text_file:  # Open text file in append mode\n",
    "\n",
    "    writer = csv.writer(csv_file)\n",
    "    writer.writerow([\"Exercise Number\", \"Question Text\"])\n",
    "\n",
    "    # Regular expression to detect exercise questions (e.g., \"Exercise 2.1\")\n",
    "    exercise_pattern = re.compile(r\"^(Exercise\\s+\\d+\\.\\d+):?\\s*(.*)\")\n",
    "\n",
    "    # Process each page for OCR\n",
    "    with fitz.open(pdf_path) as pdf:\n",
    "        for pg_num in range(30, PAGE_NUM):\n",
    "            page = pdf[pg_num]\n",
    "            \n",
    "            # Increase DPI for rendering to improve OCR accuracy (e.g., 300 DPI)\n",
    "            mat = fitz.Matrix(2.0, 2.0)  # 2x scaling for higher resolution\n",
    "            pm = page.get_pixmap(matrix=mat, alpha=False)\n",
    "            \n",
    "            # Convert the pixmap to a numpy array\n",
    "            img = np.array(Image.frombytes(\"RGB\", [pm.width, pm.height], pm.samples))\n",
    "            \n",
    "            # OCR on the image with error handling\n",
    "            try:\n",
    "                result = ocr.ocr(img, cls=True)\n",
    "                if not result:\n",
    "                    print(f\"[DEBUG] No text found on page {pg_num + 1}\")\n",
    "                    continue\n",
    "                print(f\"[DEBUG] OCR result for page {pg_num + 1}:\", result)\n",
    "            except Exception as e:\n",
    "                print(f\"[ERROR] OCR failed on page {pg_num + 1}: {e}\")\n",
    "                continue  # Skip to the next page if OCR fails\n",
    "\n",
    "            # Append page header to the text file\n",
    "            text_file.write(f\"Page {pg_num + 1}:\\n\")\n",
    "\n",
    "            # Process OCR output\n",
    "            for line in result:\n",
    "                for entry in line:\n",
    "                    text = entry[1][0].strip()  # Extract recognized text and strip whitespace\n",
    "                    text_file.write(text + \"\\n\")  # Append entire OCR text to the text file\n",
    "                    text_file.flush()  # Ensure data is written immediately\n",
    "                    print(f\"[DEBUG] Text added to txt file: {text}\")  # Debug line\n",
    "\n",
    "                    # Check if text matches the exercise pattern\n",
    "                    match = exercise_pattern.match(text)\n",
    "                    if match:\n",
    "                        exercise_num = match.group(1)  # Extract \"Exercise 2.1\"\n",
    "                        question_text = match.group(2)  # Extract the question text\n",
    "                        writer.writerow([exercise_num, question_text])  # Write to CSV\n",
    "                        csv_file.flush()  # Ensure data is written immediately\n",
    "                        print(f\"[DEBUG] Writing exercise to CSV: {exercise_num} - {question_text}\")  # Debug line\n",
    "            \n",
    "            text_file.write(\"\\n\")  # Add newline between pages in the text file\n",
    "            text_file.flush()\n",
    "\n",
    "print(\"Exercises dataset created successfully at:\", csv_path)\n",
    "print(\"Full text content saved successfully at:\", text_path)\n"
   ],
   "id": "4c0f21ae0d111491",
   "outputs": [
    {
     "name": "stdout",
     "output_type": "stream",
     "text": [
      "[2024/11/12 13:48:22] ppocr DEBUG: Namespace(help='==SUPPRESS==', use_gpu=True, use_xpu=False, use_npu=False, use_mlu=False, ir_optim=True, use_tensorrt=False, min_subgraph_size=15, precision='fp32', gpu_mem=500, gpu_id=0, image_dir=None, page_num=0, det_algorithm='DB', det_model_dir='C:\\\\Users\\\\rathe/.paddleocr/whl\\\\det\\\\en\\\\en_PP-OCRv3_det_infer', det_limit_side_len=960, det_limit_type='max', det_box_type='quad', det_db_thresh=0.3, det_db_box_thresh=0.6, det_db_unclip_ratio=1.5, max_batch_size=10, use_dilation=False, det_db_score_mode='fast', det_east_score_thresh=0.8, det_east_cover_thresh=0.1, det_east_nms_thresh=0.2, det_sast_score_thresh=0.5, det_sast_nms_thresh=0.2, det_pse_thresh=0, det_pse_box_thresh=0.85, det_pse_min_area=16, det_pse_scale=1, scales=[8, 16, 32], alpha=1.0, beta=1.0, fourier_degree=5, rec_algorithm='SVTR_LCNet', rec_model_dir='C:\\\\Users\\\\rathe/.paddleocr/whl\\\\rec\\\\en\\\\en_PP-OCRv4_rec_infer', rec_image_inverse=True, rec_image_shape='3, 48, 320', rec_batch_num=6, max_text_length=25, rec_char_dict_path='C:\\\\Users\\\\rathe\\\\.conda\\\\envs\\\\newconda\\\\lib\\\\site-packages\\\\paddleocr\\\\ppocr\\\\utils\\\\en_dict.txt', use_space_char=True, vis_font_path='./doc/fonts/simfang.ttf', drop_score=0.5, e2e_algorithm='PGNet', e2e_model_dir=None, e2e_limit_side_len=768, e2e_limit_type='max', e2e_pgnet_score_thresh=0.5, e2e_char_dict_path='./ppocr/utils/ic15_dict.txt', e2e_pgnet_valid_set='totaltext', e2e_pgnet_mode='fast', use_angle_cls=True, cls_model_dir='C:\\\\Users\\\\rathe/.paddleocr/whl\\\\cls\\\\ch_ppocr_mobile_v2.0_cls_infer', cls_image_shape='3, 48, 192', label_list=['0', '180'], cls_batch_num=6, cls_thresh=0.9, enable_mkldnn=False, cpu_threads=10, use_pdserving=False, warmup=False, sr_model_dir=None, sr_image_shape='3, 32, 128', sr_batch_num=1, draw_img_save_dir='./inference_results', save_crop_res=False, crop_res_save_dir='./output', use_mp=False, total_process_num=1, process_id=0, benchmark=False, save_log_path='./log_output/', show_log=True, use_onnx=False, return_word_box=False, output='./output', table_max_len=488, table_algorithm='TableAttn', table_model_dir=None, merge_no_span_structure=True, table_char_dict_path=None, formula_algorithm='LaTeXOCR', formula_model_dir=None, formula_char_dict_path=None, formula_batch_num=1, layout_model_dir=None, layout_dict_path=None, layout_score_threshold=0.5, layout_nms_threshold=0.5, kie_algorithm='LayoutXLM', ser_model_dir=None, re_model_dir=None, use_visual_backbone=True, ser_dict_path='../train_data/XFUND/class_list_xfun.txt', ocr_order_method=None, mode='structure', image_orientation=False, layout=True, table=True, formula=False, ocr=True, recovery=False, recovery_to_markdown=False, use_pdf2docx_api=False, invert=False, binarize=False, alphacolor=(255, 255, 255), lang='en', det=True, rec=True, type='ocr', savefile=False, ocr_version='PP-OCRv4', structure_version='PP-StructureV2')\n",
      "[2024/11/12 13:48:22] ppocr WARNING: The first GPU is used for inference by default, GPU ID: 0\n",
      "[2024/11/12 13:48:24] ppocr WARNING: The first GPU is used for inference by default, GPU ID: 0\n",
      "[2024/11/12 13:48:27] ppocr WARNING: The first GPU is used for inference by default, GPU ID: 0\n"
     ]
    }
   ],
   "execution_count": null
  }
 ],
 "metadata": {
  "kernelspec": {
   "display_name": "cuda-kernal",
   "language": "python",
   "name": "cuda"
  },
  "language_info": {
   "codemirror_mode": {
    "name": "ipython",
    "version": 2
   },
   "file_extension": ".py",
   "mimetype": "text/x-python",
   "name": "python",
   "nbconvert_exporter": "python",
   "pygments_lexer": "ipython2",
   "version": "2.7.6"
  }
 },
 "nbformat": 4,
 "nbformat_minor": 5
}
