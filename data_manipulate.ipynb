{
 "cells": [
  {
   "cell_type": "code",
   "execution_count": 1,
   "id": "initial_id",
   "metadata": {
    "ExecuteTime": {
     "end_time": "2024-11-20T11:18:53.054231Z",
     "start_time": "2024-11-20T11:18:47.600917Z"
    },
    "collapsed": true
   },
   "outputs": [],
   "source": [
    "import pandas as pd\n",
    "from torch import unique\n",
    "import numpy as np"
   ]
  },
  {
   "cell_type": "code",
   "execution_count": 2,
   "id": "35b43f750065f0c1",
   "metadata": {
    "ExecuteTime": {
     "end_time": "2024-11-20T11:16:54.219622Z",
     "start_time": "2024-11-20T11:16:54.188202Z"
    }
   },
   "outputs": [],
   "source": [
    "data = pd.read_csv('questionsPrimer.csv')"
   ]
  },
  {
   "cell_type": "code",
   "execution_count": 3,
   "id": "fe42b324a45baba7",
   "metadata": {
    "ExecuteTime": {
     "end_time": "2024-11-20T11:17:37.875531Z",
     "start_time": "2024-11-20T11:17:37.854367Z"
    }
   },
   "outputs": [
    {
     "data": {
      "text/html": [
       "<div>\n",
       "<style scoped>\n",
       "    .dataframe tbody tr th:only-of-type {\n",
       "        vertical-align: middle;\n",
       "    }\n",
       "\n",
       "    .dataframe tbody tr th {\n",
       "        vertical-align: top;\n",
       "    }\n",
       "\n",
       "    .dataframe thead th {\n",
       "        text-align: right;\n",
       "    }\n",
       "</style>\n",
       "<table border=\"1\" class=\"dataframe\">\n",
       "  <thead>\n",
       "    <tr style=\"text-align: right;\">\n",
       "      <th></th>\n",
       "      <th>Exercise Number</th>\n",
       "      <th>Question Text</th>\n",
       "      <th>Chapter_name</th>\n",
       "    </tr>\n",
       "  </thead>\n",
       "  <tbody>\n",
       "    <tr>\n",
       "      <th>0</th>\n",
       "      <td>Exercise 1.1</td>\n",
       "      <td>Review the documentation for your compiler and...</td>\n",
       "      <td>Getting started</td>\n",
       "    </tr>\n",
       "    <tr>\n",
       "      <th>1</th>\n",
       "      <td>Exercise 1.2</td>\n",
       "      <td>Change the program to return -1. A return valu...</td>\n",
       "      <td>Getting started</td>\n",
       "    </tr>\n",
       "    <tr>\n",
       "      <th>2</th>\n",
       "      <td>Exercise 1.3</td>\n",
       "      <td>Write a program to print He11o, Wor1d on the s...</td>\n",
       "      <td>Getting started</td>\n",
       "    </tr>\n",
       "    <tr>\n",
       "      <th>3</th>\n",
       "      <td>Exercise 1.4</td>\n",
       "      <td>Our program used the addition operator, +, to ...</td>\n",
       "      <td>Getting started</td>\n",
       "    </tr>\n",
       "    <tr>\n",
       "      <th>4</th>\n",
       "      <td>Exercise 1.5</td>\n",
       "      <td>We wrote the output in one large statement. Re...</td>\n",
       "      <td>Getting started</td>\n",
       "    </tr>\n",
       "  </tbody>\n",
       "</table>\n",
       "</div>"
      ],
      "text/plain": [
       "  Exercise Number                                      Question Text  \\\n",
       "0    Exercise 1.1  Review the documentation for your compiler and...   \n",
       "1    Exercise 1.2  Change the program to return -1. A return valu...   \n",
       "2    Exercise 1.3  Write a program to print He11o, Wor1d on the s...   \n",
       "3    Exercise 1.4  Our program used the addition operator, +, to ...   \n",
       "4    Exercise 1.5  We wrote the output in one large statement. Re...   \n",
       "\n",
       "      Chapter_name  \n",
       "0  Getting started  \n",
       "1  Getting started  \n",
       "2  Getting started  \n",
       "3  Getting started  \n",
       "4  Getting started  "
      ]
     },
     "execution_count": 3,
     "metadata": {},
     "output_type": "execute_result"
    }
   ],
   "source": [
    "data.head()"
   ]
  },
  {
   "cell_type": "code",
   "execution_count": 4,
   "id": "4d4aa76009a8d1cc",
   "metadata": {
    "ExecuteTime": {
     "end_time": "2024-11-20T11:22:06.057346Z",
     "start_time": "2024-11-20T11:22:06.038809Z"
    }
   },
   "outputs": [
    {
     "data": {
      "text/plain": [
       "Index(['Exercise Number', 'Question Text', 'Chapter_name'], dtype='object')"
      ]
     },
     "execution_count": 4,
     "metadata": {},
     "output_type": "execute_result"
    }
   ],
   "source": [
    "data.columns"
   ]
  },
  {
   "cell_type": "code",
   "execution_count": 5,
   "id": "747e8ac0a72523ec",
   "metadata": {
    "ExecuteTime": {
     "end_time": "2024-11-20T11:50:59.054513Z",
     "start_time": "2024-11-20T11:50:59.047514Z"
    }
   },
   "outputs": [],
   "source": [
    "data.rename(columns={'Chapter Name':'Chapter'}, inplace=True)"
   ]
  },
  {
   "cell_type": "code",
   "execution_count": 6,
   "id": "9ede295181e0324b",
   "metadata": {
    "ExecuteTime": {
     "end_time": "2024-11-20T11:52:32.125518Z",
     "start_time": "2024-11-20T11:52:32.106141Z"
    }
   },
   "outputs": [],
   "source": [
    "df = data.drop('Exercise Number', axis=1)"
   ]
  },
  {
   "cell_type": "code",
   "execution_count": 7,
   "id": "b311b17cefb7296f",
   "metadata": {
    "ExecuteTime": {
     "end_time": "2024-11-20T11:52:43.262199Z",
     "start_time": "2024-11-20T11:52:43.245199Z"
    }
   },
   "outputs": [
    {
     "data": {
      "text/html": [
       "<div>\n",
       "<style scoped>\n",
       "    .dataframe tbody tr th:only-of-type {\n",
       "        vertical-align: middle;\n",
       "    }\n",
       "\n",
       "    .dataframe tbody tr th {\n",
       "        vertical-align: top;\n",
       "    }\n",
       "\n",
       "    .dataframe thead th {\n",
       "        text-align: right;\n",
       "    }\n",
       "</style>\n",
       "<table border=\"1\" class=\"dataframe\">\n",
       "  <thead>\n",
       "    <tr style=\"text-align: right;\">\n",
       "      <th></th>\n",
       "      <th>Question Text</th>\n",
       "      <th>Chapter_name</th>\n",
       "    </tr>\n",
       "  </thead>\n",
       "  <tbody>\n",
       "    <tr>\n",
       "      <th>0</th>\n",
       "      <td>Review the documentation for your compiler and...</td>\n",
       "      <td>Getting started</td>\n",
       "    </tr>\n",
       "    <tr>\n",
       "      <th>1</th>\n",
       "      <td>Change the program to return -1. A return valu...</td>\n",
       "      <td>Getting started</td>\n",
       "    </tr>\n",
       "    <tr>\n",
       "      <th>2</th>\n",
       "      <td>Write a program to print He11o, Wor1d on the s...</td>\n",
       "      <td>Getting started</td>\n",
       "    </tr>\n",
       "    <tr>\n",
       "      <th>3</th>\n",
       "      <td>Our program used the addition operator, +, to ...</td>\n",
       "      <td>Getting started</td>\n",
       "    </tr>\n",
       "    <tr>\n",
       "      <th>4</th>\n",
       "      <td>We wrote the output in one large statement. Re...</td>\n",
       "      <td>Getting started</td>\n",
       "    </tr>\n",
       "  </tbody>\n",
       "</table>\n",
       "</div>"
      ],
      "text/plain": [
       "                                       Question Text     Chapter_name\n",
       "0  Review the documentation for your compiler and...  Getting started\n",
       "1  Change the program to return -1. A return valu...  Getting started\n",
       "2  Write a program to print He11o, Wor1d on the s...  Getting started\n",
       "3  Our program used the addition operator, +, to ...  Getting started\n",
       "4  We wrote the output in one large statement. Re...  Getting started"
      ]
     },
     "execution_count": 7,
     "metadata": {},
     "output_type": "execute_result"
    }
   ],
   "source": [
    "df.head()"
   ]
  },
  {
   "cell_type": "code",
   "execution_count": 8,
   "id": "d7ea678fed01bee3",
   "metadata": {
    "ExecuteTime": {
     "end_time": "2024-11-20T11:53:14.158463Z",
     "start_time": "2024-11-20T11:53:14.143410Z"
    }
   },
   "outputs": [],
   "source": [
    "df.columns =['Question','Chapter_name']"
   ]
  },
  {
   "cell_type": "code",
   "execution_count": 9,
   "id": "8b0abe63b79e7249",
   "metadata": {
    "ExecuteTime": {
     "end_time": "2024-11-20T11:54:26.538664Z",
     "start_time": "2024-11-20T11:54:26.527663Z"
    }
   },
   "outputs": [],
   "source": [
    "col = []\n",
    "col.append(np.unique(df['Chapter_name']))\n"
   ]
  },
  {
   "cell_type": "code",
   "execution_count": 10,
   "id": "ce88df0dc4f11eba",
   "metadata": {
    "ExecuteTime": {
     "end_time": "2024-11-20T11:54:36.423080Z",
     "start_time": "2024-11-20T11:54:36.418079Z"
    }
   },
   "outputs": [
    {
     "name": "stdout",
     "output_type": "stream",
     "text": [
      "[array(['Associative Containers', 'Classes', 'Copy Control', 'Expressions',\n",
      "       'Functions', 'Generic Algorithms', 'Getting started',\n",
      "       'Object-Oriented Programming', 'Operator Overloading',\n",
      "       'Pointers and Dynamic Memory', 'Sequential Containers',\n",
      "       'Specialised Library Facilities',\n",
      "       'Specialised Tools and Techniques', 'Statements',\n",
      "       'Streams and IO Library', 'Strings, Vectors, and Arrays',\n",
      "       'Templates', 'Tools for Large Programs',\n",
      "       'Variable and Basic types'], dtype=object)]\n"
     ]
    }
   ],
   "source": [
    "print(col)"
   ]
  },
  {
   "cell_type": "code",
   "execution_count": 11,
   "id": "4d5b542bf54e5894",
   "metadata": {
    "ExecuteTime": {
     "end_time": "2024-11-20T11:55:32.710458Z",
     "start_time": "2024-11-20T11:55:32.678945Z"
    }
   },
   "outputs": [
    {
     "data": {
      "text/html": [
       "<div>\n",
       "<style scoped>\n",
       "    .dataframe tbody tr th:only-of-type {\n",
       "        vertical-align: middle;\n",
       "    }\n",
       "\n",
       "    .dataframe tbody tr th {\n",
       "        vertical-align: top;\n",
       "    }\n",
       "\n",
       "    .dataframe thead th {\n",
       "        text-align: right;\n",
       "    }\n",
       "</style>\n",
       "<table border=\"1\" class=\"dataframe\">\n",
       "  <thead>\n",
       "    <tr style=\"text-align: right;\">\n",
       "      <th></th>\n",
       "      <th>Page Number</th>\n",
       "      <th>Question Text</th>\n",
       "      <th>Chapter</th>\n",
       "    </tr>\n",
       "  </thead>\n",
       "  <tbody>\n",
       "    <tr>\n",
       "      <th>0</th>\n",
       "      <td>1</td>\n",
       "      <td>1. Pascal, BASIC, and C are p.</td>\n",
       "      <td>The Big Picture</td>\n",
       "    </tr>\n",
       "    <tr>\n",
       "      <th>1</th>\n",
       "      <td>1</td>\n",
       "      <td>2. A widget is to the blueprint for a widget a...</td>\n",
       "      <td>The Big Picture</td>\n",
       "    </tr>\n",
       "    <tr>\n",
       "      <th>2</th>\n",
       "      <td>1</td>\n",
       "      <td>3. The two major components of an object are</td>\n",
       "      <td>The Big Picture</td>\n",
       "    </tr>\n",
       "    <tr>\n",
       "      <th>3</th>\n",
       "      <td>1</td>\n",
       "      <td>4. In C++, a function contained within a class...</td>\n",
       "      <td>The Big Picture</td>\n",
       "    </tr>\n",
       "    <tr>\n",
       "      <th>4</th>\n",
       "      <td>2</td>\n",
       "      <td>5. Protecting data from access by unauthorized...</td>\n",
       "      <td>The Big Picture</td>\n",
       "    </tr>\n",
       "  </tbody>\n",
       "</table>\n",
       "</div>"
      ],
      "text/plain": [
       "   Page Number                                      Question Text  \\\n",
       "0            1                     1. Pascal, BASIC, and C are p.   \n",
       "1            1  2. A widget is to the blueprint for a widget a...   \n",
       "2            1       3. The two major components of an object are   \n",
       "3            1  4. In C++, a function contained within a class...   \n",
       "4            2  5. Protecting data from access by unauthorized...   \n",
       "\n",
       "           Chapter  \n",
       "0  The Big Picture  \n",
       "1  The Big Picture  \n",
       "2  The Big Picture  \n",
       "3  The Big Picture  \n",
       "4  The Big Picture  "
      ]
     },
     "execution_count": 11,
     "metadata": {},
     "output_type": "execute_result"
    }
   ],
   "source": [
    "df2 = pd.read_csv('questions.csv')\n",
    "df2.head()"
   ]
  },
  {
   "cell_type": "code",
   "execution_count": 12,
   "id": "7f2331a01f28946b",
   "metadata": {
    "ExecuteTime": {
     "end_time": "2024-11-20T11:56:05.912648Z",
     "start_time": "2024-11-20T11:56:05.900633Z"
    }
   },
   "outputs": [],
   "source": [
    "df2.drop('Page Number', axis=1, inplace=True)"
   ]
  },
  {
   "cell_type": "code",
   "execution_count": 13,
   "id": "8eaa8156da022231",
   "metadata": {
    "ExecuteTime": {
     "end_time": "2024-11-20T11:56:51.959463Z",
     "start_time": "2024-11-20T11:56:51.942463Z"
    }
   },
   "outputs": [
    {
     "data": {
      "text/html": [
       "<div>\n",
       "<style scoped>\n",
       "    .dataframe tbody tr th:only-of-type {\n",
       "        vertical-align: middle;\n",
       "    }\n",
       "\n",
       "    .dataframe tbody tr th {\n",
       "        vertical-align: top;\n",
       "    }\n",
       "\n",
       "    .dataframe thead th {\n",
       "        text-align: right;\n",
       "    }\n",
       "</style>\n",
       "<table border=\"1\" class=\"dataframe\">\n",
       "  <thead>\n",
       "    <tr style=\"text-align: right;\">\n",
       "      <th></th>\n",
       "      <th>Question Text</th>\n",
       "      <th>Chapter</th>\n",
       "    </tr>\n",
       "  </thead>\n",
       "  <tbody>\n",
       "    <tr>\n",
       "      <th>0</th>\n",
       "      <td>1. Pascal, BASIC, and C are p.</td>\n",
       "      <td>The Big Picture</td>\n",
       "    </tr>\n",
       "    <tr>\n",
       "      <th>1</th>\n",
       "      <td>2. A widget is to the blueprint for a widget a...</td>\n",
       "      <td>The Big Picture</td>\n",
       "    </tr>\n",
       "    <tr>\n",
       "      <th>2</th>\n",
       "      <td>3. The two major components of an object are</td>\n",
       "      <td>The Big Picture</td>\n",
       "    </tr>\n",
       "    <tr>\n",
       "      <th>3</th>\n",
       "      <td>4. In C++, a function contained within a class...</td>\n",
       "      <td>The Big Picture</td>\n",
       "    </tr>\n",
       "    <tr>\n",
       "      <th>4</th>\n",
       "      <td>5. Protecting data from access by unauthorized...</td>\n",
       "      <td>The Big Picture</td>\n",
       "    </tr>\n",
       "  </tbody>\n",
       "</table>\n",
       "</div>"
      ],
      "text/plain": [
       "                                       Question Text          Chapter\n",
       "0                     1. Pascal, BASIC, and C are p.  The Big Picture\n",
       "1  2. A widget is to the blueprint for a widget a...  The Big Picture\n",
       "2       3. The two major components of an object are  The Big Picture\n",
       "3  4. In C++, a function contained within a class...  The Big Picture\n",
       "4  5. Protecting data from access by unauthorized...  The Big Picture"
      ]
     },
     "execution_count": 13,
     "metadata": {},
     "output_type": "execute_result"
    }
   ],
   "source": [
    "df2.head()"
   ]
  },
  {
   "cell_type": "code",
   "execution_count": 14,
   "id": "e408d281c7c83563",
   "metadata": {
    "ExecuteTime": {
     "end_time": "2024-11-20T11:56:45.743582Z",
     "start_time": "2024-11-20T11:56:45.731580Z"
    }
   },
   "outputs": [],
   "source": [
    "df2.columns = ['Question','Chapter_name']"
   ]
  },
  {
   "cell_type": "code",
   "execution_count": 15,
   "id": "58e31662650109f4",
   "metadata": {
    "ExecuteTime": {
     "end_time": "2024-11-20T11:58:04.202919Z",
     "start_time": "2024-11-20T11:58:04.183803Z"
    }
   },
   "outputs": [
    {
     "name": "stdout",
     "output_type": "stream",
     "text": [
      "[array(['Arrays and Strings', 'C++ Programming Basics', 'Functions',\n",
      "       'Inheritance', 'Loops and Decisions', 'Multifile Programs',\n",
      "       'Object-Oriented Software Development', 'Objects and Classes',\n",
      "       'Operator Overloading', 'Pointers', 'Streams and Files',\n",
      "       'Structures', 'Templates and Exceptions', 'The Big Picture',\n",
      "       'The Standard Template Library', 'Virtual Functions'], dtype=object)]\n"
     ]
    }
   ],
   "source": [
    "col2 = [np.unique(df2['Chapter_name'])]\n",
    "print(col2)"
   ]
  }
 ],
 "metadata": {
  "kernelspec": {
   "display_name": ".venv",
   "language": "python",
   "name": "python3"
  },
  "language_info": {
   "codemirror_mode": {
    "name": "ipython",
    "version": 3
   },
   "file_extension": ".py",
   "mimetype": "text/x-python",
   "name": "python",
   "nbconvert_exporter": "python",
   "pygments_lexer": "ipython3",
   "version": "3.11.9"
  }
 },
 "nbformat": 4,
 "nbformat_minor": 5
}
