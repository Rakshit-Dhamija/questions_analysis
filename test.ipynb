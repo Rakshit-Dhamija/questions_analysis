{
 "cells": [
  {
   "metadata": {
    "ExecuteTime": {
     "end_time": "2024-11-11T08:51:58.304213Z",
     "start_time": "2024-11-11T08:51:58.287210Z"
    }
   },
   "cell_type": "code",
   "source": [
    "import pandas as pd\n",
    "import torch\n",
    "import transformers\n",
    "from mpl_toolkits.mplot3d.proj3d import transform\n",
    "from transformers import BertTokenizer, BertModel\n",
    "import torch.nn as nn\n",
    "import torch.optim as optim\n",
    "from torch.utils.data import Dataset, DataLoader, random_split"
   ],
   "id": "258299775ac8958e",
   "outputs": [],
   "execution_count": 92
  },
  {
   "metadata": {
    "ExecuteTime": {
     "end_time": "2024-11-11T08:51:58.349468Z",
     "start_time": "2024-11-11T08:51:58.322211Z"
    }
   },
   "cell_type": "code",
   "source": "print(transformers.__version__)",
   "id": "90d3178e4162946b",
   "outputs": [
    {
     "name": "stdout",
     "output_type": "stream",
     "text": [
      "4.46.2\n"
     ]
    }
   ],
   "execution_count": 93
  },
  {
   "metadata": {
    "ExecuteTime": {
     "end_time": "2024-11-11T08:51:59.301299Z",
     "start_time": "2024-11-11T08:51:59.272812Z"
    }
   },
   "cell_type": "code",
   "source": [
    "device = torch.device('cuda' if torch.cuda.is_available() else 'cpu')\n",
    "print(f\"Using device: {device}\")\n"
   ],
   "id": "291b44f1b03c9bdf",
   "outputs": [
    {
     "name": "stdout",
     "output_type": "stream",
     "text": [
      "Using device: cuda\n"
     ]
    }
   ],
   "execution_count": 94
  },
  {
   "metadata": {
    "ExecuteTime": {
     "end_time": "2024-11-11T08:51:59.410389Z",
     "start_time": "2024-11-11T08:51:59.391851Z"
    }
   },
   "cell_type": "code",
   "source": [
    "file_path = 'questions.csv'  # Replace with your CSV file path\n",
    "df = pd.read_csv(file_path)"
   ],
   "id": "6bb58d8576d3359c",
   "outputs": [],
   "execution_count": 95
  },
  {
   "metadata": {
    "ExecuteTime": {
     "end_time": "2024-11-11T08:51:59.502876Z",
     "start_time": "2024-11-11T08:51:59.489913Z"
    }
   },
   "cell_type": "code",
   "source": [
    "questions = df['Question Text'].tolist()\n",
    "labels = df['Chapter'].tolist()\n"
   ],
   "id": "45e35c9835450769",
   "outputs": [],
   "execution_count": 96
  },
  {
   "metadata": {
    "ExecuteTime": {
     "end_time": "2024-11-11T08:52:00.124460Z",
     "start_time": "2024-11-11T08:51:59.567946Z"
    }
   },
   "cell_type": "code",
   "source": [
    "label_map = {label: idx for idx, label in enumerate(set(labels))}\n",
    "map_to_label ={idx:label for idx, label in enumerate(set(labels))}\n",
    "labels = [label_map[label] for label in labels]\n",
    "num_classes = len(label_map)\n",
    "\n",
    "# Load BERT tokenizer and define constants\n",
    "tokenizer = BertTokenizer.from_pretrained('bert-base-uncased')\n",
    "max_length = 64\n",
    "batch_size = 8\n",
    "learning_rate = 1e-5\n",
    "num_epochs = 10"
   ],
   "id": "cec0ccc7ee0cea7b",
   "outputs": [],
   "execution_count": 97
  },
  {
   "metadata": {
    "ExecuteTime": {
     "end_time": "2024-11-11T08:52:00.200495Z",
     "start_time": "2024-11-11T08:52:00.190161Z"
    }
   },
   "cell_type": "code",
   "source": [
    "class QuestionDataset(Dataset):\n",
    "    def __init__(self, questions, labels, tokenizer, max_length):\n",
    "        self.questions = questions\n",
    "        self.labels = labels\n",
    "        self.tokenizer = tokenizer\n",
    "        self.max_length = max_length\n",
    "\n",
    "    def __len__(self):\n",
    "        return len(self.questions)\n",
    "\n",
    "    def __getitem__(self, idx):\n",
    "        question = self.questions[idx]\n",
    "        label = self.labels[idx]\n",
    "        \n",
    "        encoding = (self.tokenizer.encode_plus(\n",
    "            question,\n",
    "            max_length=self.max_length,\n",
    "            padding='max_length',\n",
    "            truncation=True,\n",
    "            return_tensors='pt'\n",
    "        ))\n",
    "        \n",
    "        input_ids = encoding['input_ids'].squeeze()\n",
    "        attention_mask = encoding['attention_mask'].squeeze()\n",
    "        \n",
    "        return {\n",
    "            'input_ids': input_ids,\n",
    "            'attention_mask': attention_mask,\n",
    "            'label': torch.tensor(label, dtype=torch.long)\n",
    "        }\n"
   ],
   "id": "e0074568335dd3e8",
   "outputs": [],
   "execution_count": 98
  },
  {
   "metadata": {
    "ExecuteTime": {
     "end_time": "2024-11-11T08:52:00.294596Z",
     "start_time": "2024-11-11T08:52:00.282597Z"
    }
   },
   "cell_type": "code",
   "source": [
    "class BERTClassifier(nn.Module):\n",
    "    def __init__(self, bert_model_name, num_classes):\n",
    "        super(BERTClassifier, self).__init__()\n",
    "        self.bert = BertModel.from_pretrained(bert_model_name)\n",
    "        self.fc = nn.Linear(self.bert.config.hidden_size, num_classes)\n",
    "    \n",
    "    def forward(self, input_ids, attention_mask):\n",
    "        outputs = self.bert(input_ids=input_ids, attention_mask=attention_mask)\n",
    "        cls_output = outputs.pooler_output\n",
    "        return self.fc(cls_output)"
   ],
   "id": "64d4ce7057922eca",
   "outputs": [],
   "execution_count": 99
  },
  {
   "metadata": {
    "ExecuteTime": {
     "end_time": "2024-11-11T08:52:01.477403Z",
     "start_time": "2024-11-11T08:52:00.358041Z"
    }
   },
   "cell_type": "code",
   "source": "model = BERTClassifier('bert-base-uncased', num_classes).to(device)",
   "id": "223cf771c9c3e9d4",
   "outputs": [],
   "execution_count": 100
  },
  {
   "metadata": {
    "ExecuteTime": {
     "end_time": "2024-11-11T08:52:01.553656Z",
     "start_time": "2024-11-11T08:52:01.541317Z"
    }
   },
   "cell_type": "code",
   "source": [
    "dataset = QuestionDataset(questions, labels, tokenizer, max_length)\n",
    "train_size = int(0.8 * len(dataset))\n",
    "val_size = len(dataset) - train_size\n",
    "train_dataset, val_dataset = random_split(dataset, [train_size, val_size])\n",
    "train_loader = DataLoader(train_dataset, batch_size=batch_size, shuffle=True)\n",
    "val_loader = DataLoader(val_dataset, batch_size=batch_size, shuffle=False)"
   ],
   "id": "86463735c8144d66",
   "outputs": [],
   "execution_count": 101
  },
  {
   "metadata": {
    "ExecuteTime": {
     "end_time": "2024-11-11T08:52:01.631220Z",
     "start_time": "2024-11-11T08:52:01.617219Z"
    }
   },
   "cell_type": "code",
   "source": [
    "optimizer = optim.Adam(model.parameters(), lr=learning_rate)\n",
    "criterion = nn.CrossEntropyLoss()"
   ],
   "id": "ec460304d5867e31",
   "outputs": [],
   "execution_count": 102
  },
  {
   "metadata": {
    "ExecuteTime": {
     "end_time": "2024-11-11T08:52:01.772219Z",
     "start_time": "2024-11-11T08:52:01.759996Z"
    }
   },
   "cell_type": "code",
   "source": "print(transformers.__version__)",
   "id": "23acdc7b61459f33",
   "outputs": [
    {
     "name": "stdout",
     "output_type": "stream",
     "text": [
      "4.46.2\n"
     ]
    }
   ],
   "execution_count": 103
  },
  {
   "metadata": {
    "ExecuteTime": {
     "end_time": "2024-11-11T08:53:33.579217Z",
     "start_time": "2024-11-11T08:52:01.881705Z"
    }
   },
   "cell_type": "code",
   "source": [
    "for epoch in range(num_epochs):\n",
    "    model.train()\n",
    "    total_loss = 0\n",
    "    for batch in train_loader:\n",
    "        # Move batch data to device\n",
    "        input_ids = batch['input_ids'].to(device)\n",
    "        attention_mask = batch['attention_mask'].to(device)\n",
    "        labels = batch['label'].to(device)\n",
    "        \n",
    "        optimizer.zero_grad()\n",
    "        outputs = model(input_ids=input_ids, attention_mask=attention_mask)\n",
    "        loss = criterion(outputs, labels)\n",
    "        loss.backward()\n",
    "        optimizer.step()\n",
    "        \n",
    "        total_loss += loss.item()\n",
    "    \n",
    "    avg_train_loss = total_loss / len(train_loader)\n",
    "    print(f\"Epoch {epoch + 1}/{num_epochs}, Training Loss: {avg_train_loss}\")"
   ],
   "id": "6ae76487240d9446",
   "outputs": [
    {
     "name": "stdout",
     "output_type": "stream",
     "text": [
      "Epoch 1/10, Training Loss: 2.776620243109909\n",
      "Epoch 2/10, Training Loss: 2.6627495709587548\n",
      "Epoch 3/10, Training Loss: 2.5324043713363946\n",
      "Epoch 4/10, Training Loss: 2.3613462868858788\n",
      "Epoch 5/10, Training Loss: 2.173934487735524\n",
      "Epoch 6/10, Training Loss: 1.962233216154809\n",
      "Epoch 7/10, Training Loss: 1.7435327791700177\n",
      "Epoch 8/10, Training Loss: 1.5568605895135916\n",
      "Epoch 9/10, Training Loss: 1.326779702130486\n",
      "Epoch 10/10, Training Loss: 1.143190967101677\n"
     ]
    }
   ],
   "execution_count": 104
  },
  {
   "metadata": {
    "ExecuteTime": {
     "end_time": "2024-11-11T08:53:33.744493Z",
     "start_time": "2024-11-11T08:53:33.729642Z"
    }
   },
   "cell_type": "code",
   "source": [
    "def predict_question(question, model, tokenizer, device, max_length=32):\n",
    "    # Preprocess the question (tokenize)\n",
    "    encoding = tokenizer.encode_plus(\n",
    "        question,\n",
    "        max_length=max_length,\n",
    "        padding='max_length',\n",
    "        truncation=True,\n",
    "        return_tensors='pt'\n",
    "    )\n",
    "    input_ids = encoding['input_ids'].to(device)\n",
    "    attention_mask = encoding['attention_mask'].to(device)\n",
    "    \n",
    "    # Put model in evaluation mode\n",
    "    model.eval()\n",
    "\n",
    "    with torch.no_grad():  # No gradient computation for inference\n",
    "        # Get model output (logits)\n",
    "        outputs = model(input_ids=input_ids, attention_mask=attention_mask)\n",
    "        \n",
    "        # Get the predicted class by finding the index with the maximum value\n",
    "        _, predicted_class = torch.max(outputs, 1)\n",
    "\n",
    "    return predicted_class.item()"
   ],
   "id": "75d444269afb93ee",
   "outputs": [],
   "execution_count": 105
  },
  {
   "metadata": {
    "ExecuteTime": {
     "end_time": "2024-11-11T08:53:33.760468Z",
     "start_time": "2024-11-11T08:53:33.752494Z"
    }
   },
   "cell_type": "code",
   "source": "label_map",
   "id": "620c9d3024a2740c",
   "outputs": [
    {
     "data": {
      "text/plain": [
       "{'Object-Oriented Software Development': 0,\n",
       " 'Operator Overloading': 1,\n",
       " 'Virtual Functions': 2,\n",
       " 'Objects and Classes': 3,\n",
       " 'The Big Picture': 4,\n",
       " 'Inheritance': 5,\n",
       " 'Streams and Files': 6,\n",
       " 'Multifile Programs': 7,\n",
       " 'Templates and Exceptions': 8,\n",
       " 'Pointers': 9,\n",
       " 'Arrays and Strings': 10,\n",
       " 'Functions': 11,\n",
       " 'Loops and Decisions': 12,\n",
       " 'Structures': 13,\n",
       " 'C++ Programming Basics': 14,\n",
       " 'The Standard Template Library': 15}"
      ]
     },
     "execution_count": 106,
     "metadata": {},
     "output_type": "execute_result"
    }
   ],
   "execution_count": 106
  },
  {
   "metadata": {
    "ExecuteTime": {
     "end_time": "2024-11-11T08:58:02.080935Z",
     "start_time": "2024-11-11T08:58:02.061414Z"
    }
   },
   "cell_type": "code",
   "source": "question = \"what is a friend function?\"",
   "id": "beb9c92c76ea491c",
   "outputs": [],
   "execution_count": 119
  },
  {
   "metadata": {
    "ExecuteTime": {
     "end_time": "2024-11-11T08:58:03.550861Z",
     "start_time": "2024-11-11T08:58:03.463129Z"
    }
   },
   "cell_type": "code",
   "source": [
    "\n",
    "predicted_class = predict_question(question, model, tokenizer, device)\n",
    "print(f\"Predicted class: {predicted_class}\")\n",
    "print(f'{map_to_label[predicted_class]}')"
   ],
   "id": "e66075befd4a2ed0",
   "outputs": [
    {
     "name": "stdout",
     "output_type": "stream",
     "text": [
      "Predicted class: 2\n",
      "Virtual Functions\n"
     ]
    }
   ],
   "execution_count": 120
  }
 ],
 "metadata": {
  "kernelspec": {
   "display_name": "cuda-kernal",
   "language": "python",
   "name": "cuda"
  },
  "language_info": {
   "codemirror_mode": {
    "name": "ipython",
    "version": 2
   },
   "file_extension": ".py",
   "mimetype": "text/x-python",
   "name": "python",
   "nbconvert_exporter": "python",
   "pygments_lexer": "ipython2",
   "version": "2.7.6"
  }
 },
 "nbformat": 4,
 "nbformat_minor": 5
}
