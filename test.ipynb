{
 "cells": [
  {
   "metadata": {
    "ExecuteTime": {
     "end_time": "2024-11-25T09:45:30.213279Z",
     "start_time": "2024-11-25T09:45:30.194279Z"
    }
   },
   "cell_type": "code",
   "source": [
    "import pandas as pd\n",
    "import torch\n",
    "import transformers\n",
    "from mpl_toolkits.mplot3d.proj3d import transform\n",
    "from transformers import BertTokenizer, BertModel\n",
    "import torch.nn as nn\n",
    "import torch.optim as optim\n",
    "from torch.utils.data import Dataset, DataLoader, random_split"
   ],
   "id": "258299775ac8958e",
   "outputs": [],
   "execution_count": 352
  },
  {
   "metadata": {
    "ExecuteTime": {
     "end_time": "2024-11-25T09:45:30.243465Z",
     "start_time": "2024-11-25T09:45:30.235286Z"
    }
   },
   "cell_type": "code",
   "source": "print(transformers.__version__)",
   "id": "90d3178e4162946b",
   "outputs": [
    {
     "name": "stdout",
     "output_type": "stream",
     "text": [
      "4.46.2\n"
     ]
    }
   ],
   "execution_count": 353
  },
  {
   "metadata": {
    "ExecuteTime": {
     "end_time": "2024-11-25T09:45:30.305002Z",
     "start_time": "2024-11-25T09:45:30.291045Z"
    }
   },
   "cell_type": "code",
   "source": [
    "device = torch.device('cuda' if torch.cuda.is_available() else 'cpu')\n",
    "print(f\"Using device: {device}\")\n",
    "if torch.cuda.is_available():\n",
    "    print(f\"Using : {torch.cuda.get_device_name(0)}\")\n"
   ],
   "id": "291b44f1b03c9bdf",
   "outputs": [
    {
     "name": "stdout",
     "output_type": "stream",
     "text": [
      "Using device: cuda\n",
      "Using : NVIDIA GeForce RTX 3050 Laptop GPU\n"
     ]
    }
   ],
   "execution_count": 354
  },
  {
   "metadata": {
    "ExecuteTime": {
     "end_time": "2024-11-25T09:45:30.412430Z",
     "start_time": "2024-11-25T09:45:30.398295Z"
    }
   },
   "cell_type": "code",
   "source": [
    "file_path = 'final_questions.csv'  # Replace with your CSV file path\n",
    "df = pd.read_csv(file_path)"
   ],
   "id": "6bb58d8576d3359c",
   "outputs": [],
   "execution_count": 355
  },
  {
   "metadata": {
    "ExecuteTime": {
     "end_time": "2024-11-25T09:45:30.427443Z",
     "start_time": "2024-11-25T09:45:30.416331Z"
    }
   },
   "cell_type": "code",
   "source": "",
   "id": "89e457a7fb5421c4",
   "outputs": [],
   "execution_count": null
  },
  {
   "metadata": {
    "ExecuteTime": {
     "end_time": "2024-11-25T09:45:30.489679Z",
     "start_time": "2024-11-25T09:45:30.475451Z"
    }
   },
   "cell_type": "code",
   "source": [
    "questions = df['Question Text'].tolist()\n",
    "labels = df['Chapter_name'].tolist()\n"
   ],
   "id": "45e35c9835450769",
   "outputs": [],
   "execution_count": 356
  },
  {
   "metadata": {
    "ExecuteTime": {
     "end_time": "2024-11-25T09:45:30.551242Z",
     "start_time": "2024-11-25T09:45:30.536219Z"
    }
   },
   "cell_type": "code",
   "source": "len(questions)",
   "id": "3e5cdabb6587dd26",
   "outputs": [
    {
     "data": {
      "text/plain": [
       "1532"
      ]
     },
     "execution_count": 357,
     "metadata": {},
     "output_type": "execute_result"
    }
   ],
   "execution_count": 357
  },
  {
   "metadata": {
    "ExecuteTime": {
     "end_time": "2024-11-25T09:45:31.043796Z",
     "start_time": "2024-11-25T09:45:30.599218Z"
    }
   },
   "cell_type": "code",
   "source": [
    "label_map = {label: idx for idx, label in enumerate(set(labels))}\n",
    "map_to_label ={idx:label for idx, label in enumerate(set(labels))}\n",
    "labels = [label_map[label] for label in labels]\n",
    "num_classes = len(label_map)\n",
    "\n",
    "# Load BERT tokenizer and define constants\n",
    "tokenizer = BertTokenizer.from_pretrained('bert-base-uncased')\n",
    "max_length = 64\n",
    "batch_size = 8\n",
    "# 1e-5 =55%\n",
    "#3e-5 = 65%\n",
    "#8e-5 =67%\n",
    "learning_rate = 4e-5\n",
    "num_epochs = 13"
   ],
   "id": "cec0ccc7ee0cea7b",
   "outputs": [],
   "execution_count": 358
  },
  {
   "metadata": {
    "ExecuteTime": {
     "end_time": "2024-11-25T09:45:31.105330Z",
     "start_time": "2024-11-25T09:45:31.091197Z"
    }
   },
   "cell_type": "code",
   "source": [
    "class QuestionDataset(Dataset):\n",
    "    def __init__(self, questions, labels, tokenizer, max_length):\n",
    "        self.questions = questions\n",
    "        self.labels = labels\n",
    "        self.tokenizer = tokenizer\n",
    "        self.max_length = max_length\n",
    "\n",
    "    def __len__(self):\n",
    "        return len(self.questions)\n",
    "\n",
    "    def __getitem__(self, idx):\n",
    "        question = self.questions[idx]\n",
    "        label = self.labels[idx]\n",
    "        \n",
    "        encoding = (self.tokenizer.encode_plus(\n",
    "            question,\n",
    "            max_length=self.max_length,\n",
    "            padding='max_length',\n",
    "            truncation=True,\n",
    "            return_tensors='pt'\n",
    "        ))\n",
    "        \n",
    "        input_ids = encoding['input_ids'].squeeze()\n",
    "        attention_mask = encoding['attention_mask'].squeeze()\n",
    "        \n",
    "        return {\n",
    "            'input_ids': input_ids,\n",
    "            'attention_mask': attention_mask,\n",
    "            'label': torch.tensor(label, dtype=torch.long)\n",
    "        }\n"
   ],
   "id": "e0074568335dd3e8",
   "outputs": [],
   "execution_count": 359
  },
  {
   "metadata": {
    "ExecuteTime": {
     "end_time": "2024-11-25T09:45:31.182977Z",
     "start_time": "2024-11-25T09:45:31.168665Z"
    }
   },
   "cell_type": "code",
   "source": [
    "class BERTClassifier(nn.Module):\n",
    "    def __init__(self, bert_model_name, num_classes):\n",
    "        super(BERTClassifier, self).__init__()\n",
    "        self.bert = BertModel.from_pretrained(bert_model_name)\n",
    "        self.fc = nn.Linear(self.bert.config.hidden_size, num_classes)\n",
    "    \n",
    "    def forward(self, input_ids, attention_mask):\n",
    "        outputs = self.bert(input_ids=input_ids, attention_mask=attention_mask)\n",
    "        cls_output = outputs.pooler_output\n",
    "        return self.fc(cls_output)"
   ],
   "id": "64d4ce7057922eca",
   "outputs": [],
   "execution_count": 360
  },
  {
   "metadata": {
    "ExecuteTime": {
     "end_time": "2024-11-25T09:45:32.208411Z",
     "start_time": "2024-11-25T09:45:31.234265Z"
    }
   },
   "cell_type": "code",
   "source": "model = BERTClassifier('bert-base-uncased', num_classes).to(device)",
   "id": "223cf771c9c3e9d4",
   "outputs": [],
   "execution_count": 361
  },
  {
   "metadata": {
    "ExecuteTime": {
     "end_time": "2024-11-25T09:45:32.270957Z",
     "start_time": "2024-11-25T09:45:32.257884Z"
    }
   },
   "cell_type": "code",
   "source": [
    "dataset = QuestionDataset(questions, labels, tokenizer, max_length)\n",
    "train_size = int(0.8* len(dataset))\n",
    "val_size = len(dataset) - train_size\n",
    "train_dataset, val_dataset = random_split(dataset, [train_size, val_size])\n",
    "train_loader = DataLoader(train_dataset, batch_size=batch_size, shuffle=True)\n",
    "val_loader = DataLoader(val_dataset, batch_size=batch_size, shuffle=False)"
   ],
   "id": "86463735c8144d66",
   "outputs": [],
   "execution_count": 362
  },
  {
   "metadata": {
    "ExecuteTime": {
     "end_time": "2024-11-25T09:45:32.333367Z",
     "start_time": "2024-11-25T09:45:32.318337Z"
    }
   },
   "cell_type": "code",
   "source": [
    "optimizer = optim.AdamW(model.parameters(), lr=learning_rate)\n",
    "criterion = nn.CrossEntropyLoss()"
   ],
   "id": "ec460304d5867e31",
   "outputs": [],
   "execution_count": 363
  },
  {
   "metadata": {
    "ExecuteTime": {
     "end_time": "2024-11-25T09:45:32.396754Z",
     "start_time": "2024-11-25T09:45:32.382220Z"
    }
   },
   "cell_type": "code",
   "source": "print(transformers.__version__)",
   "id": "23acdc7b61459f33",
   "outputs": [
    {
     "name": "stdout",
     "output_type": "stream",
     "text": [
      "4.46.2\n"
     ]
    }
   ],
   "execution_count": 364
  },
  {
   "metadata": {
    "ExecuteTime": {
     "end_time": "2024-11-25T09:50:01.336395Z",
     "start_time": "2024-11-25T09:45:32.510607Z"
    }
   },
   "cell_type": "code",
   "source": [
    "for epoch in range(num_epochs):\n",
    "    model.train()\n",
    "    total_loss = 0\n",
    "    for batch in train_loader:\n",
    "        input_ids = batch['input_ids'].to(device)\n",
    "        attention_mask = batch['attention_mask'].to(device)\n",
    "        labels = batch['label'].to(device)\n",
    "        \n",
    "        optimizer.zero_grad()\n",
    "        outputs = model(input_ids=input_ids, attention_mask=attention_mask)\n",
    "        loss = criterion(outputs, labels)\n",
    "        loss.backward()\n",
    "        optimizer.step()\n",
    "        \n",
    "        total_loss += loss.item()\n",
    "    \n",
    "    avg_train_loss = total_loss / len(train_loader)\n",
    "    print(f\"Epoch {epoch + 1}/{num_epochs}, Training Loss: {avg_train_loss}\")"
   ],
   "id": "6ae76487240d9446",
   "outputs": [
    {
     "name": "stdout",
     "output_type": "stream",
     "text": [
      "Epoch 1/13, Training Loss: 3.0810184850321187\n",
      "Epoch 2/13, Training Loss: 2.3808476181773397\n",
      "Epoch 3/13, Training Loss: 1.7897256914671364\n",
      "Epoch 4/13, Training Loss: 1.1909023055008479\n",
      "Epoch 5/13, Training Loss: 0.6818510725513681\n",
      "Epoch 6/13, Training Loss: 0.35050326130993953\n",
      "Epoch 7/13, Training Loss: 0.18312316801544135\n",
      "Epoch 8/13, Training Loss: 0.10658546390810184\n",
      "Epoch 9/13, Training Loss: 0.060723251354723395\n",
      "Epoch 10/13, Training Loss: 0.03868163166591873\n",
      "Epoch 11/13, Training Loss: 0.027698989425386702\n",
      "Epoch 12/13, Training Loss: 0.022375932785791235\n",
      "Epoch 13/13, Training Loss: 0.0186339944976007\n"
     ]
    }
   ],
   "execution_count": 365
  },
  {
   "metadata": {
    "ExecuteTime": {
     "end_time": "2024-11-25T09:50:01.395674Z",
     "start_time": "2024-11-25T09:50:01.382492Z"
    }
   },
   "cell_type": "code",
   "source": [
    "def predict_question(question, model, tokenizer, device, max_length=32):\n",
    "    # Preprocess the question (tokenize)\n",
    "    encoding = tokenizer.encode_plus(\n",
    "        question,\n",
    "        max_length=max_length,\n",
    "        padding='max_length',\n",
    "        truncation=True,\n",
    "        return_tensors='pt'\n",
    "    )\n",
    "    input_ids = encoding['input_ids'].to(device)\n",
    "    attention_mask = encoding['attention_mask'].to(device)\n",
    "    model.eval()\n",
    "\n",
    "    with torch.no_grad():  \n",
    "        outputs = model(input_ids=input_ids, attention_mask=attention_mask)\n",
    "        _, predicted_class = torch.max(outputs, 1)\n",
    "\n",
    "    return predicted_class.item()"
   ],
   "id": "75d444269afb93ee",
   "outputs": [],
   "execution_count": 366
  },
  {
   "metadata": {
    "ExecuteTime": {
     "end_time": "2024-11-25T09:50:01.410920Z",
     "start_time": "2024-11-25T09:50:01.401470Z"
    }
   },
   "cell_type": "code",
   "source": "label_map",
   "id": "620c9d3024a2740c",
   "outputs": [
    {
     "data": {
      "text/plain": [
       "{'Copy Control': 0,\n",
       " 'Streams and IO Library': 1,\n",
       " 'Multifile Programs': 2,\n",
       " 'Variable and Basic types': 3,\n",
       " 'Expressions': 4,\n",
       " 'Generic Algorithms and STL': 5,\n",
       " 'Functions': 6,\n",
       " 'Generic Algorithms': 7,\n",
       " 'Templates ': 8,\n",
       " 'Getting started': 9,\n",
       " 'Statements': 10,\n",
       " 'Pointers and Dynamic Memory': 11,\n",
       " 'Tools for Large Programs': 12,\n",
       " 'Objects and Classes': 13,\n",
       " 'Virtual Functions': 14,\n",
       " 'Strings, Vectors, and Arrays': 15,\n",
       " 'Structures': 16,\n",
       " 'C++ Programming Basics': 17,\n",
       " 'Templates': 18,\n",
       " 'Object-Oriented Programming': 19,\n",
       " 'String,Vectors, and Arrays': 20,\n",
       " 'Loops and Decisions': 21,\n",
       " 'Specialised Tools and Techniques': 22,\n",
       " 'Associative Containers': 23,\n",
       " 'Specialised Library Facilities': 24,\n",
       " 'Inheritance': 25,\n",
       " 'Pointers': 26,\n",
       " 'Operator Overloading': 27,\n",
       " 'Sequential Containers': 28}"
      ]
     },
     "execution_count": 367,
     "metadata": {},
     "output_type": "execute_result"
    }
   ],
   "execution_count": 367
  },
  {
   "metadata": {
    "ExecuteTime": {
     "end_time": "2024-11-25T09:50:01.472425Z",
     "start_time": "2024-11-25T09:50:01.457923Z"
    }
   },
   "cell_type": "code",
   "source": "question = \"How can you implement a template?\"",
   "id": "beb9c92c76ea491c",
   "outputs": [],
   "execution_count": 368
  },
  {
   "metadata": {
    "ExecuteTime": {
     "end_time": "2024-11-25T09:50:01.502521Z",
     "start_time": "2024-11-25T09:50:01.477522Z"
    }
   },
   "cell_type": "code",
   "source": [
    "\n",
    "predicted_class = predict_question(question, model, tokenizer, device)\n",
    "print(f\"Predicted class: {predicted_class}\")\n",
    "print(f'{map_to_label[predicted_class]}')"
   ],
   "id": "e66075befd4a2ed0",
   "outputs": [
    {
     "name": "stdout",
     "output_type": "stream",
     "text": [
      "Predicted class: 18\n",
      "Templates\n"
     ]
    }
   ],
   "execution_count": 369
  },
  {
   "metadata": {
    "ExecuteTime": {
     "end_time": "2024-11-25T09:50:01.549180Z",
     "start_time": "2024-11-25T09:50:01.534855Z"
    }
   },
   "cell_type": "code",
   "source": [
    "def calculate_accuracy(model, dataloader, device):\n",
    "    model.eval()  # Set the model to evaluation mode\n",
    "    total_samples = 0\n",
    "    correct_predictions = 0\n",
    "\n",
    "    with torch.no_grad():  # Disable gradient computation\n",
    "        for batch in dataloader:\n",
    "            # Move inputs and labels to the device\n",
    "            input_ids = batch['input_ids'].to(device)\n",
    "            attention_mask = batch['attention_mask'].to(device)\n",
    "            labels = batch['label'].to(device)\n",
    "            \n",
    "            # Get model predictions\n",
    "            outputs = model(input_ids=input_ids, attention_mask=attention_mask)\n",
    "            _, predictions = torch.max(outputs, 1)  # Get the index of the highest logit\n",
    "            \n",
    "            # Count correct predictions\n",
    "            correct_predictions += (predictions == labels).sum().item()\n",
    "            total_samples += labels.size(0)\n",
    "\n",
    "    # Calculate accuracy\n",
    "    accuracy = correct_predictions / total_samples\n",
    "    return accuracy\n"
   ],
   "id": "5bf3c87750b66356",
   "outputs": [],
   "execution_count": 370
  },
  {
   "metadata": {
    "ExecuteTime": {
     "end_time": "2024-11-25T09:50:02.866725Z",
     "start_time": "2024-11-25T09:50:01.581371Z"
    }
   },
   "cell_type": "code",
   "source": [
    "device = torch.device('cuda' if torch.cuda.is_available() else 'cpu')\n",
    "model.to(device)\n",
    "\n",
    "val_accuracy = calculate_accuracy(model, val_loader, device)\n",
    "print(f\"Validation Accuracy: {val_accuracy * 100:.2f}%\")"
   ],
   "id": "7d435cf345da2d53",
   "outputs": [
    {
     "name": "stdout",
     "output_type": "stream",
     "text": [
      "Validation Accuracy: 67.43%\n"
     ]
    }
   ],
   "execution_count": 371
  },
  {
   "metadata": {
    "ExecuteTime": {
     "end_time": "2024-11-25T09:50:02.914242Z",
     "start_time": "2024-11-25T09:50:02.899796Z"
    }
   },
   "cell_type": "code",
   "source": "",
   "id": "9609cbce37d0a0d1",
   "outputs": [],
   "execution_count": null
  },
  {
   "metadata": {
    "ExecuteTime": {
     "end_time": "2024-11-25T09:50:02.959962Z",
     "start_time": "2024-11-25T09:50:02.947084Z"
    }
   },
   "cell_type": "code",
   "source": "",
   "id": "16cf940933de6e08",
   "outputs": [],
   "execution_count": null
  }
 ],
 "metadata": {
  "kernelspec": {
   "display_name": "cuda-kernal",
   "language": "python",
   "name": "cuda"
  },
  "language_info": {
   "codemirror_mode": {
    "name": "ipython",
    "version": 2
   },
   "file_extension": ".py",
   "mimetype": "text/x-python",
   "name": "python",
   "nbconvert_exporter": "python",
   "pygments_lexer": "ipython2",
   "version": "2.7.6"
  }
 },
 "nbformat": 4,
 "nbformat_minor": 5
}
