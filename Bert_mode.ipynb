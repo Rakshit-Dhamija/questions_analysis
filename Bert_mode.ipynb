{
 "cells": [
  {
   "cell_type": "code",
   "execution_count": null,
   "id": "258299775ac8958e",
   "metadata": {
    "ExecuteTime": {
     "end_time": "2024-11-27T18:42:16.562726Z",
     "start_time": "2024-11-27T18:42:16.555956Z"
    }
   },
   "outputs": [],
   "source": [
    "import pandas as pd\n",
    "import torch\n",
    "from transformers import BertTokenizer, BertModel\n",
    "import torch.nn as nn   \n",
    "import torch.optim as optim\n",
    "from torch.utils.data import Dataset, DataLoader, random_split"
   ]
  },
  {
   "cell_type": "code",
   "execution_count": 15,
   "id": "291b44f1b03c9bdf",
   "metadata": {
    "ExecuteTime": {
     "end_time": "2024-11-27T17:51:31.766227Z",
     "start_time": "2024-11-27T17:51:31.746657Z"
    }
   },
   "outputs": [
    {
     "name": "stdout",
     "output_type": "stream",
     "text": [
      "Using device: cuda:0\n",
      "Using : cuda:0\n"
     ]
    }
   ],
   "source": [
    "device = torch.device('cuda:0' if torch.cuda.is_available() else 'cpu')\n",
    "print(f\"Using device: {device}\")\n",
    "if torch.cuda.is_available():\n",
    "    print(f\"Using : {device}\")\n"
   ]
  },
  {
   "cell_type": "code",
   "execution_count": 16,
   "id": "6bb58d8576d3359c",
   "metadata": {
    "ExecuteTime": {
     "end_time": "2024-11-27T17:51:31.797482Z",
     "start_time": "2024-11-27T17:51:31.783232Z"
    }
   },
   "outputs": [],
   "source": [
    "file_path = 'final_questions.csv' \n",
    "df = pd.read_csv(file_path)"
   ]
  },
  {
   "cell_type": "code",
   "execution_count": 17,
   "id": "c57e797ebeb60aad",
   "metadata": {
    "ExecuteTime": {
     "end_time": "2024-11-27T17:51:31.812619Z",
     "start_time": "2024-11-27T17:51:31.805364Z"
    }
   },
   "outputs": [
    {
     "name": "stdout",
     "output_type": "stream",
     "text": [
      "                                       Question Text     Chapter_name\n",
      "0                     1. Pascal, BASIC, and C are p.  Getting started\n",
      "1  2. A widget is to the blueprint for a widget a...  Getting started\n",
      "2       3. The two major components of an object are  Getting started\n",
      "3  4. In C++, a function contained within a class...  Getting started\n",
      "4  5. Protecting data from access by unauthorized...  Getting started\n",
      "The length of dataframe is :1532\n"
     ]
    }
   ],
   "source": [
    "print(df.head())\n",
    "print(f\"The length of dataframe is :{df.shape[0]}\")"
   ]
  },
  {
   "cell_type": "code",
   "execution_count": 18,
   "id": "45e35c9835450769",
   "metadata": {
    "ExecuteTime": {
     "end_time": "2024-11-27T17:51:31.905518Z",
     "start_time": "2024-11-27T17:51:31.886405Z"
    }
   },
   "outputs": [],
   "source": [
    "questions = df['Question Text'].tolist()\n",
    "labels = df['Chapter_name'].tolist()\n"
   ]
  },
  {
   "cell_type": "code",
   "execution_count": 19,
   "id": "cec0ccc7ee0cea7b",
   "metadata": {
    "ExecuteTime": {
     "end_time": "2024-11-27T17:51:32.724536Z",
     "start_time": "2024-11-27T17:51:31.914023Z"
    }
   },
   "outputs": [],
   "source": [
    "label_map = {label: idx for idx, label in enumerate(set(labels))}\n",
    "map_to_label ={idx:label for idx, label in enumerate(set(labels))}\n",
    "labels = [label_map[label] for label in labels]\n",
    "num_classes = len(label_map)\n",
    "# Load BERT tokenizer and define constants\n",
    "tokenizer = BertTokenizer.from_pretrained('bert-base-uncased')"
   ]
  },
  {
   "cell_type": "code",
   "execution_count": 20,
   "id": "2857950b9f46c07d",
   "metadata": {
    "ExecuteTime": {
     "end_time": "2024-11-27T17:51:32.756178Z",
     "start_time": "2024-11-27T17:51:32.736262Z"
    }
   },
   "outputs": [],
   "source": [
    "#Super Parameters\n",
    "max_length = 64\n",
    "batch_size = 8\n",
    "learning_rate = 4e-5 # (1e-5 =55%) (3e-5 = 65%) (8e-5=67%)\n",
    "num_epochs = 13"
   ]
  },
  {
   "cell_type": "code",
   "execution_count": 21,
   "id": "e0074568335dd3e8",
   "metadata": {
    "ExecuteTime": {
     "end_time": "2024-11-27T17:51:32.772182Z",
     "start_time": "2024-11-27T17:51:32.767178Z"
    }
   },
   "outputs": [],
   "source": [
    "#Intializing a question_dataset \n",
    "class QuestionDataset(Dataset):\n",
    "    def __init__(self, questions, labels, tokenizer, max_length):\n",
    "        self.questions = questions\n",
    "        self.labels = labels\n",
    "        self.tokenizer = tokenizer\n",
    "        self.max_length = max_length\n",
    "\n",
    "    def __len__(self):\n",
    "        return len(self.questions)\n",
    "\n",
    "    def __getitem__(self, idx):\n",
    "        question = self.questions[idx]\n",
    "        label = self.labels[idx]\n",
    "        \n",
    "        encoding = (self.tokenizer.encode_plus(\n",
    "            question,\n",
    "            max_length=self.max_length,\n",
    "            padding='max_length',\n",
    "            truncation=True,\n",
    "            return_tensors='pt'\n",
    "        ))\n",
    "        \n",
    "        input_ids = encoding['input_ids'].squeeze()\n",
    "        attention_mask = encoding['attention_mask'].squeeze()\n",
    "        \n",
    "        return {\n",
    "            'input_ids': input_ids,\n",
    "            'attention_mask': attention_mask,\n",
    "            'label': torch.tensor(label, dtype=torch.long)\n",
    "        }\n"
   ]
  },
  {
   "cell_type": "code",
   "execution_count": 22,
   "id": "64d4ce7057922eca",
   "metadata": {
    "ExecuteTime": {
     "end_time": "2024-11-27T17:51:32.787607Z",
     "start_time": "2024-11-27T17:51:32.782608Z"
    }
   },
   "outputs": [],
   "source": [
    "# BERTClassifier  bert model to connected to a linear neural network to predict class\n",
    "class BERTClassifier(nn.Module):\n",
    "    def __init__(self, bert_model_name, num_classes):\n",
    "        super(BERTClassifier, self).__init__()\n",
    "        self.bert = BertModel.from_pretrained(bert_model_name)\n",
    "        self.fc = nn.Linear(self.bert.config.hidden_size, num_classes)\n",
    "    \n",
    "    def forward(self, input_ids, attention_mask):\n",
    "        outputs = self.bert(input_ids=input_ids, attention_mask=attention_mask)\n",
    "        cls_output = outputs.pooler_output\n",
    "        return self.fc(cls_output)"
   ]
  },
  {
   "cell_type": "code",
   "execution_count": 23,
   "id": "223cf771c9c3e9d4",
   "metadata": {
    "ExecuteTime": {
     "end_time": "2024-11-27T17:51:37.586121Z",
     "start_time": "2024-11-27T17:51:32.803190Z"
    }
   },
   "outputs": [],
   "source": [
    "model = BERTClassifier('bert-base-uncased', num_classes).to(device)"
   ]
  },
  {
   "cell_type": "code",
   "execution_count": 24,
   "id": "86463735c8144d66",
   "metadata": {
    "ExecuteTime": {
     "end_time": "2024-11-27T17:51:37.616596Z",
     "start_time": "2024-11-27T17:51:37.609848Z"
    }
   },
   "outputs": [],
   "source": [
    "dataset = QuestionDataset(questions, labels, tokenizer, max_length)\n",
    "train_size = int(0.8* len(dataset))\n",
    "val_size = len(dataset) - train_size\n",
    "train_dataset, val_dataset = random_split(dataset, [train_size, val_size])\n",
    "train_loader = DataLoader(train_dataset, batch_size=batch_size, shuffle=True)\n",
    "val_loader = DataLoader(val_dataset, batch_size=batch_size, shuffle=False)"
   ]
  },
  {
   "cell_type": "code",
   "execution_count": 25,
   "id": "ec460304d5867e31",
   "metadata": {
    "ExecuteTime": {
     "end_time": "2024-11-27T17:51:37.647658Z",
     "start_time": "2024-11-27T17:51:37.633444Z"
    }
   },
   "outputs": [],
   "source": [
    "optimizer = optim.AdamW(model.parameters(), lr=learning_rate)# why we used adamW\n",
    "#why we used cross entropy loss\n",
    "criterion = nn.CrossEntropyLoss()"
   ]
  },
  {
   "cell_type": "code",
   "execution_count": 26,
   "id": "6ae76487240d9446",
   "metadata": {
    "ExecuteTime": {
     "end_time": "2024-11-27T17:56:06.408251Z",
     "start_time": "2024-11-27T17:51:37.671061Z"
    }
   },
   "outputs": [
    {
     "name": "stdout",
     "output_type": "stream",
     "text": [
      "Epoch 1/13, Training Loss: 3.178834300536614\n",
      "Epoch 2/13, Training Loss: 2.338138468853839\n",
      "Epoch 3/13, Training Loss: 1.521136522438232\n",
      "Epoch 4/13, Training Loss: 0.9190841750665144\n",
      "Epoch 5/13, Training Loss: 0.46990196150425195\n",
      "Epoch 6/13, Training Loss: 0.2335159226574681\n",
      "Epoch 7/13, Training Loss: 0.1308491174373534\n",
      "Epoch 8/13, Training Loss: 0.08726094286985599\n",
      "Epoch 9/13, Training Loss: 0.0994282330555672\n",
      "Epoch 10/13, Training Loss: 0.04530196473631379\n",
      "Epoch 11/13, Training Loss: 0.03714738613260644\n",
      "Epoch 12/13, Training Loss: 0.03187484273614435\n",
      "Epoch 13/13, Training Loss: 0.015257569223448827\n"
     ]
    }
   ],
   "source": [
    "#Training the model\n",
    "for epoch in range(num_epochs):\n",
    "    model.train()\n",
    "    total_loss = 0\n",
    "    for batch in train_loader:\n",
    "        input_ids = batch['input_ids'].to(device)\n",
    "        attention_mask = batch['attention_mask'].to(device)\n",
    "        labels = batch['label'].to(device)\n",
    "        \n",
    "        optimizer.zero_grad()#what is zero_grad\n",
    "        outputs = model(input_ids=input_ids, attention_mask=attention_mask)\n",
    "        loss = criterion(outputs, labels)\n",
    "        loss.backward()\n",
    "        optimizer.step()\n",
    "        \n",
    "        total_loss += loss.item()\n",
    "    \n",
    "    avg_train_loss = total_loss / len(train_loader)\n",
    "    print(f\"Epoch {epoch + 1}/{num_epochs}, Training Loss: {avg_train_loss}\")"
   ]
  },
  {
   "cell_type": "code",
   "execution_count": 27,
   "id": "1a0b860fb68c5629",
   "metadata": {
    "ExecuteTime": {
     "end_time": "2024-11-27T18:06:36.138439Z",
     "start_time": "2024-11-27T18:06:36.135110Z"
    }
   },
   "outputs": [
    {
     "name": "stdout",
     "output_type": "stream",
     "text": [
      "Tue May 20 02:13:05 2025       \n",
      "+-----------------------------------------------------------------------------------------+\n",
      "| NVIDIA-SMI 572.83                 Driver Version: 572.83         CUDA Version: 12.8     |\n",
      "|-----------------------------------------+------------------------+----------------------+\n",
      "| GPU  Name                  Driver-Model | Bus-Id          Disp.A | Volatile Uncorr. ECC |\n",
      "| Fan  Temp   Perf          Pwr:Usage/Cap |           Memory-Usage | GPU-Util  Compute M. |\n",
      "|                                         |                        |               MIG M. |\n",
      "|=========================================+========================+======================|\n",
      "|   0  NVIDIA GeForce RTX 4050 ...  WDDM  |   00000000:01:00.0 Off |                  N/A |\n",
      "| N/A   63C    P0             23W /  137W |    2461MiB /   6141MiB |     94%      Default |\n",
      "|                                         |                        |                  N/A |\n",
      "+-----------------------------------------+------------------------+----------------------+\n",
      "                                                                                         \n",
      "+-----------------------------------------------------------------------------------------+\n",
      "| Processes:                                                                              |\n",
      "|  GPU   GI   CI              PID   Type   Process name                        GPU Memory |\n",
      "|        ID   ID                                                               Usage      |\n",
      "|=========================================================================================|\n",
      "|    0   N/A  N/A           17568      C   ..._qbz5n2kfra8p0\\python3.11.exe      N/A      |\n",
      "+-----------------------------------------------------------------------------------------+\n"
     ]
    }
   ],
   "source": [
    "!nvidia-smi"
   ]
  },
  {
   "cell_type": "code",
   "execution_count": null,
   "id": "6c54173c",
   "metadata": {},
   "outputs": [],
   "source": [
    "pip install playsound"
   ]
  },
  {
   "cell_type": "code",
   "execution_count": 43,
   "id": "6e9ce22faf4bcc5a",
   "metadata": {
    "ExecuteTime": {
     "end_time": "2024-11-27T18:42:31.094632Z",
     "start_time": "2024-11-27T18:42:21.080724Z"
    }
   },
   "outputs": [],
   "source": [
    "# from threading import Thread\n",
    "# from playsound import playsound\n",
    "# import time\n",
    "# audio_file = 'alarm.mp3'\n",
    "# def play_sound():\n",
    "#     while True:\n",
    "#         playsound(audio_file)\n",
    "# sound_thread = Thread(target=play_sound, daemon=True)\n",
    "# sound_thread.start()\n",
    "# time.sleep(10)\n",
    "\n",
    "# print(\"Finished playing sound for 10 seconds!\")\n"
   ]
  },
  {
   "cell_type": "code",
   "execution_count": 29,
   "id": "eb161c1b9f134149",
   "metadata": {
    "ExecuteTime": {
     "end_time": "2024-11-27T18:04:32.293914Z",
     "start_time": "2024-11-27T18:04:31.368823Z"
    }
   },
   "outputs": [],
   "source": [
    "torch.save(model, 'model_complete.pth') "
   ]
  },
  {
   "cell_type": "code",
   "execution_count": 30,
   "id": "75d444269afb93ee",
   "metadata": {
    "ExecuteTime": {
     "end_time": "2024-11-27T17:56:16.451622Z",
     "start_time": "2024-11-27T17:56:16.446616Z"
    }
   },
   "outputs": [],
   "source": [
    "def predict_question(question, model, tokenizer, device, max_length=32):\n",
    "    # Preprocess the question (tokenize)\n",
    "    encoding = tokenizer.encode_plus(\n",
    "        question,\n",
    "        max_length=max_length,\n",
    "        padding='max_length',\n",
    "        truncation=True,\n",
    "        return_tensors='pt'\n",
    "    )\n",
    "    input_ids = encoding['input_ids'].to(device)\n",
    "    attention_mask = encoding['attention_mask'].to(device)\n",
    "    model.eval()\n",
    "\n",
    "    with torch.no_grad():  \n",
    "        outputs = model(input_ids=input_ids, attention_mask=attention_mask)\n",
    "        _, predicted_class = torch.max(outputs, 1)\n",
    "\n",
    "    return predicted_class.item()"
   ]
  },
  {
   "cell_type": "code",
   "execution_count": 31,
   "id": "620c9d3024a2740c",
   "metadata": {
    "ExecuteTime": {
     "end_time": "2024-11-27T17:56:16.463187Z",
     "start_time": "2024-11-27T17:56:16.458288Z"
    }
   },
   "outputs": [
    {
     "data": {
      "text/plain": [
       "{'Operator Overloading': 0,\n",
       " 'Pointers and Dynamic Memory': 1,\n",
       " 'Templates ': 2,\n",
       " 'Loops and Decisions': 3,\n",
       " 'Pointers': 4,\n",
       " 'Strings, Vectors, and Arrays': 5,\n",
       " 'C++ Programming Basics': 6,\n",
       " 'Virtual Functions': 7,\n",
       " 'Inheritance': 8,\n",
       " 'Generic Algorithms and STL': 9,\n",
       " 'Getting started': 10,\n",
       " 'Structures': 11,\n",
       " 'Specialised Library Facilities': 12,\n",
       " 'Multifile Programs': 13,\n",
       " 'Functions': 14,\n",
       " 'Templates': 15,\n",
       " 'Generic Algorithms': 16,\n",
       " 'Specialised Tools and Techniques': 17,\n",
       " 'Objects and Classes': 18,\n",
       " 'Object-Oriented Programming': 19,\n",
       " 'Tools for Large Programs': 20,\n",
       " 'Copy Control': 21,\n",
       " 'Variable and Basic types': 22,\n",
       " 'Streams and IO Library': 23,\n",
       " 'Expressions': 24,\n",
       " 'Associative Containers': 25,\n",
       " 'String,Vectors, and Arrays': 26,\n",
       " 'Statements': 27,\n",
       " 'Sequential Containers': 28}"
      ]
     },
     "execution_count": 31,
     "metadata": {},
     "output_type": "execute_result"
    }
   ],
   "source": [
    "label_map"
   ]
  },
  {
   "cell_type": "code",
   "execution_count": 32,
   "id": "beb9c92c76ea491c",
   "metadata": {
    "ExecuteTime": {
     "end_time": "2024-11-27T17:56:16.476331Z",
     "start_time": "2024-11-27T17:56:16.473215Z"
    }
   },
   "outputs": [],
   "source": [
    "question = \"How can you implement a template?\""
   ]
  },
  {
   "cell_type": "code",
   "execution_count": 33,
   "id": "e66075befd4a2ed0",
   "metadata": {
    "ExecuteTime": {
     "end_time": "2024-11-27T17:56:16.563176Z",
     "start_time": "2024-11-27T17:56:16.491386Z"
    }
   },
   "outputs": [
    {
     "name": "stdout",
     "output_type": "stream",
     "text": [
      "Predicted class: 15\n",
      "Templates\n"
     ]
    }
   ],
   "source": [
    "\n",
    "predicted_class = predict_question(question, model, tokenizer, device)\n",
    "print(f\"Predicted class: {predicted_class}\")\n",
    "print(f'{map_to_label[predicted_class]}')"
   ]
  },
  {
   "cell_type": "code",
   "execution_count": 34,
   "id": "5bf3c87750b66356",
   "metadata": {
    "ExecuteTime": {
     "end_time": "2024-11-27T17:56:16.575197Z",
     "start_time": "2024-11-27T17:56:16.570640Z"
    }
   },
   "outputs": [],
   "source": [
    "def calculate_accuracy(model, dataloader, device):\n",
    "    model.eval()  # Set the model to evaluation mode\n",
    "    total_samples = 0\n",
    "    correct_predictions = 0\n",
    "\n",
    "    with torch.no_grad():  # Disable gradient computation\n",
    "        for batch in dataloader:\n",
    "            # Move inputs and labels to the device\n",
    "            input_ids = batch['input_ids'].to(device)\n",
    "            attention_mask = batch['attention_mask'].to(device)\n",
    "            labels = batch['label'].to(device)\n",
    "            \n",
    "            # Get model predictions\n",
    "            outputs = model(input_ids=input_ids, attention_mask=attention_mask)\n",
    "            _, predictions = torch.max(outputs, 1)  # Get the index of the highest logit\n",
    "            \n",
    "            # Count correct predictions\n",
    "            correct_predictions += (predictions == labels).sum().item()\n",
    "            total_samples += labels.size(0)\n",
    "\n",
    "    # Calculate accuracy\n",
    "    accuracy = correct_predictions / total_samples\n",
    "    return accuracy\n"
   ]
  },
  {
   "cell_type": "code",
   "execution_count": 35,
   "id": "7d435cf345da2d53",
   "metadata": {
    "ExecuteTime": {
     "end_time": "2024-11-27T17:56:18.107195Z",
     "start_time": "2024-11-27T17:56:16.588215Z"
    }
   },
   "outputs": [
    {
     "name": "stdout",
     "output_type": "stream",
     "text": [
      "Validation Accuracy: 66.78%\n"
     ]
    }
   ],
   "source": [
    "device = torch.device('cuda' if torch.cuda.is_available() else 'cpu')\n",
    "model.to(device)\n",
    "\n",
    "val_accuracy = calculate_accuracy(model, val_loader, device)\n",
    "print(f\"Validation Accuracy: {val_accuracy * 100:.2f}%\")"
   ]
  },
  {
   "cell_type": "code",
   "execution_count": 45,
   "id": "a3579f18",
   "metadata": {},
   "outputs": [
    {
     "name": "stdout",
     "output_type": "stream",
     "text": [
      "Chapter-wise Question Distribution:\n",
      "============================================================\n",
      "                             Chapter  Number_of_Questions  \\\n",
      "0                          Functions                  148   \n",
      "1                Objects and Classes                  135   \n",
      "2               Operator Overloading                   85   \n",
      "3                        Expressions                   76   \n",
      "4       Strings, Vectors, and Arrays                   75   \n",
      "5              Sequential Containers                   74   \n",
      "6        Object-Oriented Programming                   70   \n",
      "7                          Templates                   67   \n",
      "8                       Copy Control                   57   \n",
      "9             Streams and IO Library                   57   \n",
      "10                        Statements                   50   \n",
      "11                 Virtual Functions                   43   \n",
      "12                          Pointers                   43   \n",
      "13                Generic Algorithms                   42   \n",
      "14          Variable and Basic types                   42   \n",
      "15        String,Vectors, and Arrays                   39   \n",
      "16    Specialised Library Facilities                   39   \n",
      "17        Generic Algorithms and STL                   38   \n",
      "18                   Getting started                   38   \n",
      "19            C++ Programming Basics                   37   \n",
      "20               Loops and Decisions                   37   \n",
      "21            Associative Containers                   37   \n",
      "22       Pointers and Dynamic Memory                   33   \n",
      "23                       Inheritance                   33   \n",
      "24          Tools for Large Programs                   30   \n",
      "25                        Templates                    28   \n",
      "26                        Structures                   27   \n",
      "27                Multifile Programs                   27   \n",
      "28  Specialised Tools and Techniques                   25   \n",
      "\n",
      "    Weightage_Percentage  \n",
      "0                   9.66  \n",
      "1                   8.81  \n",
      "2                   5.55  \n",
      "3                   4.96  \n",
      "4                   4.90  \n",
      "5                   4.83  \n",
      "6                   4.57  \n",
      "7                   4.37  \n",
      "8                   3.72  \n",
      "9                   3.72  \n",
      "10                  3.26  \n",
      "11                  2.81  \n",
      "12                  2.81  \n",
      "13                  2.74  \n",
      "14                  2.74  \n",
      "15                  2.55  \n",
      "16                  2.55  \n",
      "17                  2.48  \n",
      "18                  2.48  \n",
      "19                  2.42  \n",
      "20                  2.42  \n",
      "21                  2.42  \n",
      "22                  2.15  \n",
      "23                  2.15  \n",
      "24                  1.96  \n",
      "25                  1.83  \n",
      "26                  1.76  \n",
      "27                  1.76  \n",
      "28                  1.63  \n",
      "\n",
      "Analysis has been saved to: chapter_weightage_analysis.csv\n"
     ]
    }
   ],
   "source": [
    "file_path = 'final_questions.csv' \n",
    "df = pd.read_csv(file_path)\n",
    "def analyze_chapter_weightage(df):\n",
    "    # Get chapter-wise question count\n",
    "    chapter_counts = df['Chapter_name'].value_counts()\n",
    "    \n",
    "    # Calculate percentages\n",
    "    total_questions = len(df)\n",
    "    chapter_weightage = (chapter_counts / total_questions * 100).round(2)\n",
    "    \n",
    "    # Create a DataFrame with the analysis\n",
    "    analysis_df = pd.DataFrame({\n",
    "        'Chapter': chapter_counts.index,\n",
    "        'Number_of_Questions': chapter_counts.values,\n",
    "        'Weightage_Percentage': chapter_weightage.values\n",
    "    })\n",
    "    \n",
    "    # Sort by weightage in descending order\n",
    "    analysis_df = analysis_df.sort_values('Weightage_Percentage', ascending=False)\n",
    "    \n",
    "    # Save to CSV\n",
    "    output_file = 'chapter_weightage_analysis.csv'\n",
    "    analysis_df.to_csv(output_file, index=False)\n",
    "    \n",
    "    # Display the analysis\n",
    "    print(\"Chapter-wise Question Distribution:\")\n",
    "    print(\"=\" * 60)\n",
    "    print(analysis_df)\n",
    "    print(\"\\nAnalysis has been saved to:\", output_file)\n",
    "    \n",
    "    return analysis_df\n",
    "\n",
    "# Run the analysis\n",
    "weightage_analysis = analyze_chapter_weightage(df)"
   ]
  }
 ],
 "metadata": {
  "kernelspec": {
   "display_name": ".venv",
   "language": "python",
   "name": "python3"
  },
  "language_info": {
   "codemirror_mode": {
    "name": "ipython",
    "version": 3
   },
   "file_extension": ".py",
   "mimetype": "text/x-python",
   "name": "python",
   "nbconvert_exporter": "python",
   "pygments_lexer": "ipython3",
   "version": "3.11.9"
  }
 },
 "nbformat": 4,
 "nbformat_minor": 5
}
